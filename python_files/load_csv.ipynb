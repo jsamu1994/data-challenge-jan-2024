{
 "cells": [
  {
   "cell_type": "code",
   "execution_count": 1,
   "metadata": {},
   "outputs": [],
   "source": [
    "import pandas as pd\n",
    "import sqlalchemy"
   ]
  },
  {
   "cell_type": "code",
   "execution_count": 2,
   "metadata": {},
   "outputs": [],
   "source": [
    "DB_PATH = r\"C:\\Users\\jpgsa\\Documents\\BOLT\\bolt.db\"\n",
    "TASK_PATH = r\"C:\\Users\\jpgsa\\Documents\\BOLT\" + \"\\\\\""
   ]
  },
  {
   "cell_type": "code",
   "execution_count": 4,
   "metadata": {},
   "outputs": [
    {
     "name": "stdout",
     "output_type": "stream",
     "text": [
      "Table tb_task1_clean added to folder.\n"
     ]
    }
   ],
   "source": [
    "engine = sqlalchemy.create_engine(\"sqlite:///\" + DB_PATH)\n",
    "\n",
    "tables = [\"tb_task1_clean\"]\n",
    "\n",
    "for table in tables:\n",
    "    df_table = pd.read_sql_table(table, engine)\n",
    "    df_table.to_csv(TASK_PATH + table + \".csv\", index=False)\n",
    "    print (\"Table {} added to folder.\".format(table))"
   ]
  }
 ],
 "metadata": {
  "kernelspec": {
   "display_name": "Python 3",
   "language": "python",
   "name": "python3"
  },
  "language_info": {
   "codemirror_mode": {
    "name": "ipython",
    "version": 3
   },
   "file_extension": ".py",
   "mimetype": "text/x-python",
   "name": "python",
   "nbconvert_exporter": "python",
   "pygments_lexer": "ipython3",
   "version": "3.10.1"
  }
 },
 "nbformat": 4,
 "nbformat_minor": 2
}
